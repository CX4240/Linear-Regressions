{
 "cells": [
  {
   "cell_type": "code",
   "execution_count": 2,
   "metadata": {},
   "outputs": [],
   "source": [
    "import pandas as pd\n",
    "import numpy as np\n",
    "import matplotlib.pyplot as plt\n",
    "import seaborn as seabornInstance\n",
    "from sklearn.model_selection import train_test_split\n",
    "from sklearn.linear_model import LinearRegression\n",
    "from sklearn import metrics\n",
    "from sklearn.linear_model import LinearRegression\n",
    "from sklearn.linear_model import Ridge\n",
    "from sklearn.linear_model import Lasso\n",
    "from sklearn.linear_model import ElasticNet\n",
    "from sklearn.neighbors import KNeighborsRegressor\n",
    "from sklearn.tree import DecisionTreeRegressor\n",
    "from sklearn.svm import SVR\n",
    "from sklearn.ensemble import RandomForestRegressor\n",
    "from sklearn.metrics import r2_score\n",
    "from sklearn.model_selection import train_test_split\n",
    "from sklearn.metrics import mean_squared_error\n",
    "from math import sqrt\n",
    "%matplotlib inline\n",
    "df = pd.read_excel('Updated File.xlsx', sheet_name = '2015-2017')"
   ]
  },
  {
   "cell_type": "code",
   "execution_count": 2,
   "metadata": {},
   "outputs": [
    {
     "data": {
      "text/plain": [
       "(51, 26)"
      ]
     },
     "execution_count": 2,
     "metadata": {},
     "output_type": "execute_result"
    }
   ],
   "source": [
    "df.shape"
   ]
  },
  {
   "cell_type": "code",
   "execution_count": 3,
   "metadata": {},
   "outputs": [
    {
     "data": {
      "text/html": [
       "<div>\n",
       "<style scoped>\n",
       "    .dataframe tbody tr th:only-of-type {\n",
       "        vertical-align: middle;\n",
       "    }\n",
       "\n",
       "    .dataframe tbody tr th {\n",
       "        vertical-align: top;\n",
       "    }\n",
       "\n",
       "    .dataframe thead th {\n",
       "        text-align: right;\n",
       "    }\n",
       "</style>\n",
       "<table border=\"1\" class=\"dataframe\">\n",
       "  <thead>\n",
       "    <tr style=\"text-align: right;\">\n",
       "      <th></th>\n",
       "      <th>Total Revenue</th>\n",
       "      <th>Total Expenditure</th>\n",
       "      <th>Federal Revenue</th>\n",
       "      <th>State Revenue</th>\n",
       "      <th>Local Revenue</th>\n",
       "      <th>Instructional Spending</th>\n",
       "      <th>Support System Spending</th>\n",
       "      <th>Per Pupil Instructional</th>\n",
       "      <th>Per Pupil Support Systems</th>\n",
       "      <th>Pupils</th>\n",
       "      <th>...</th>\n",
       "      <th>Other</th>\n",
       "      <th>Construction</th>\n",
       "      <th>Instructional Equipment</th>\n",
       "      <th>8th Grade Math Score Avg</th>\n",
       "      <th>4th Grade Math Score Avg</th>\n",
       "      <th>8th Grade Reading Score Avg</th>\n",
       "      <th>4th Grade Reading Score Avg</th>\n",
       "      <th>8th Grade Score Avg</th>\n",
       "      <th>4th Grade Score Avg</th>\n",
       "      <th>Overall Score Avg</th>\n",
       "    </tr>\n",
       "  </thead>\n",
       "  <tbody>\n",
       "    <tr>\n",
       "      <td>count</td>\n",
       "      <td>5.100000e+01</td>\n",
       "      <td>5.100000e+01</td>\n",
       "      <td>51.000000</td>\n",
       "      <td>5.100000e+01</td>\n",
       "      <td>5.100000e+01</td>\n",
       "      <td>5.100000e+01</td>\n",
       "      <td>5.100000e+01</td>\n",
       "      <td>51.000000</td>\n",
       "      <td>51.000000</td>\n",
       "      <td>51.000000</td>\n",
       "      <td>...</td>\n",
       "      <td>51.000000</td>\n",
       "      <td>5.100000e+01</td>\n",
       "      <td>51.000000</td>\n",
       "      <td>51.000000</td>\n",
       "      <td>51.000000</td>\n",
       "      <td>51.000000</td>\n",
       "      <td>51.000000</td>\n",
       "      <td>51.000000</td>\n",
       "      <td>51.000000</td>\n",
       "      <td>51.000000</td>\n",
       "    </tr>\n",
       "    <tr>\n",
       "      <td>mean</td>\n",
       "      <td>1.033752e+06</td>\n",
       "      <td>1.076730e+06</td>\n",
       "      <td>38918.725490</td>\n",
       "      <td>5.030652e+05</td>\n",
       "      <td>4.917684e+05</td>\n",
       "      <td>5.136142e+05</td>\n",
       "      <td>2.808147e+05</td>\n",
       "      <td>406.058824</td>\n",
       "      <td>214.431373</td>\n",
       "      <td>63679.823529</td>\n",
       "      <td>...</td>\n",
       "      <td>34610.352941</td>\n",
       "      <td>1.893684e+05</td>\n",
       "      <td>-3318.705882</td>\n",
       "      <td>0.119949</td>\n",
       "      <td>-1.030921</td>\n",
       "      <td>0.553419</td>\n",
       "      <td>-1.027528</td>\n",
       "      <td>0.336684</td>\n",
       "      <td>-1.029225</td>\n",
       "      <td>-0.346270</td>\n",
       "    </tr>\n",
       "    <tr>\n",
       "      <td>std</td>\n",
       "      <td>2.164968e+06</td>\n",
       "      <td>2.007327e+06</td>\n",
       "      <td>128810.641473</td>\n",
       "      <td>1.307172e+06</td>\n",
       "      <td>8.842911e+05</td>\n",
       "      <td>9.517370e+05</td>\n",
       "      <td>6.291598e+05</td>\n",
       "      <td>462.569710</td>\n",
       "      <td>201.029675</td>\n",
       "      <td>137799.461755</td>\n",
       "      <td>...</td>\n",
       "      <td>107629.249630</td>\n",
       "      <td>4.568933e+05</td>\n",
       "      <td>16800.555480</td>\n",
       "      <td>1.752409</td>\n",
       "      <td>2.041296</td>\n",
       "      <td>1.978047</td>\n",
       "      <td>2.176205</td>\n",
       "      <td>1.468115</td>\n",
       "      <td>1.900419</td>\n",
       "      <td>1.456485</td>\n",
       "    </tr>\n",
       "    <tr>\n",
       "      <td>min</td>\n",
       "      <td>-4.164020e+05</td>\n",
       "      <td>-3.812810e+05</td>\n",
       "      <td>-189902.000000</td>\n",
       "      <td>-4.260520e+05</td>\n",
       "      <td>-5.287200e+04</td>\n",
       "      <td>-2.185330e+05</td>\n",
       "      <td>-9.115900e+04</td>\n",
       "      <td>-1816.000000</td>\n",
       "      <td>-536.000000</td>\n",
       "      <td>-30556.000000</td>\n",
       "      <td>...</td>\n",
       "      <td>-109587.000000</td>\n",
       "      <td>-1.447980e+05</td>\n",
       "      <td>-68581.000000</td>\n",
       "      <td>-4.265094</td>\n",
       "      <td>-5.872139</td>\n",
       "      <td>-2.748558</td>\n",
       "      <td>-5.754970</td>\n",
       "      <td>-3.063703</td>\n",
       "      <td>-5.813555</td>\n",
       "      <td>-4.438629</td>\n",
       "    </tr>\n",
       "    <tr>\n",
       "      <td>25%</td>\n",
       "      <td>1.482405e+05</td>\n",
       "      <td>1.651930e+05</td>\n",
       "      <td>-2693.000000</td>\n",
       "      <td>5.573550e+04</td>\n",
       "      <td>8.560100e+04</td>\n",
       "      <td>7.855450e+04</td>\n",
       "      <td>3.713450e+04</td>\n",
       "      <td>229.000000</td>\n",
       "      <td>131.500000</td>\n",
       "      <td>10323.000000</td>\n",
       "      <td>...</td>\n",
       "      <td>1352.500000</td>\n",
       "      <td>-1.052900e+04</td>\n",
       "      <td>-6464.000000</td>\n",
       "      <td>-1.138205</td>\n",
       "      <td>-2.549981</td>\n",
       "      <td>-0.759795</td>\n",
       "      <td>-2.484529</td>\n",
       "      <td>-0.661064</td>\n",
       "      <td>-2.339056</td>\n",
       "      <td>-1.482906</td>\n",
       "    </tr>\n",
       "    <tr>\n",
       "      <td>50%</td>\n",
       "      <td>4.256150e+05</td>\n",
       "      <td>4.598370e+05</td>\n",
       "      <td>15220.000000</td>\n",
       "      <td>1.790710e+05</td>\n",
       "      <td>1.776710e+05</td>\n",
       "      <td>2.289000e+05</td>\n",
       "      <td>1.265880e+05</td>\n",
       "      <td>373.000000</td>\n",
       "      <td>212.000000</td>\n",
       "      <td>23191.000000</td>\n",
       "      <td>...</td>\n",
       "      <td>11070.000000</td>\n",
       "      <td>4.618700e+04</td>\n",
       "      <td>-481.000000</td>\n",
       "      <td>0.133654</td>\n",
       "      <td>-0.868559</td>\n",
       "      <td>0.275862</td>\n",
       "      <td>-0.983902</td>\n",
       "      <td>0.240088</td>\n",
       "      <td>-0.999665</td>\n",
       "      <td>-0.143454</td>\n",
       "    </tr>\n",
       "    <tr>\n",
       "      <td>75%</td>\n",
       "      <td>9.274400e+05</td>\n",
       "      <td>9.233910e+05</td>\n",
       "      <td>37852.000000</td>\n",
       "      <td>3.442920e+05</td>\n",
       "      <td>4.540205e+05</td>\n",
       "      <td>5.069145e+05</td>\n",
       "      <td>2.420365e+05</td>\n",
       "      <td>562.500000</td>\n",
       "      <td>309.000000</td>\n",
       "      <td>57284.000000</td>\n",
       "      <td>...</td>\n",
       "      <td>26887.500000</td>\n",
       "      <td>2.255135e+05</td>\n",
       "      <td>1506.500000</td>\n",
       "      <td>1.505596</td>\n",
       "      <td>0.494253</td>\n",
       "      <td>1.703987</td>\n",
       "      <td>0.865751</td>\n",
       "      <td>1.258040</td>\n",
       "      <td>0.264230</td>\n",
       "      <td>0.707257</td>\n",
       "    </tr>\n",
       "    <tr>\n",
       "      <td>max</td>\n",
       "      <td>1.371425e+07</td>\n",
       "      <td>1.166275e+07</td>\n",
       "      <td>813113.000000</td>\n",
       "      <td>8.686036e+06</td>\n",
       "      <td>4.695033e+06</td>\n",
       "      <td>5.796147e+06</td>\n",
       "      <td>4.070564e+06</td>\n",
       "      <td>1795.000000</td>\n",
       "      <td>700.000000</td>\n",
       "      <td>931123.000000</td>\n",
       "      <td>...</td>\n",
       "      <td>656968.000000</td>\n",
       "      <td>2.938326e+06</td>\n",
       "      <td>50767.000000</td>\n",
       "      <td>3.796597</td>\n",
       "      <td>3.703375</td>\n",
       "      <td>4.368536</td>\n",
       "      <td>3.455644</td>\n",
       "      <td>3.492146</td>\n",
       "      <td>2.963828</td>\n",
       "      <td>2.938498</td>\n",
       "    </tr>\n",
       "  </tbody>\n",
       "</table>\n",
       "<p>8 rows × 25 columns</p>\n",
       "</div>"
      ],
      "text/plain": [
       "       Total Revenue  Total Expenditure  Federal Revenue  State Revenue  \\\n",
       "count   5.100000e+01       5.100000e+01        51.000000   5.100000e+01   \n",
       "mean    1.033752e+06       1.076730e+06     38918.725490   5.030652e+05   \n",
       "std     2.164968e+06       2.007327e+06    128810.641473   1.307172e+06   \n",
       "min    -4.164020e+05      -3.812810e+05   -189902.000000  -4.260520e+05   \n",
       "25%     1.482405e+05       1.651930e+05     -2693.000000   5.573550e+04   \n",
       "50%     4.256150e+05       4.598370e+05     15220.000000   1.790710e+05   \n",
       "75%     9.274400e+05       9.233910e+05     37852.000000   3.442920e+05   \n",
       "max     1.371425e+07       1.166275e+07    813113.000000   8.686036e+06   \n",
       "\n",
       "       Local Revenue  Instructional Spending  Support System Spending  \\\n",
       "count   5.100000e+01            5.100000e+01             5.100000e+01   \n",
       "mean    4.917684e+05            5.136142e+05             2.808147e+05   \n",
       "std     8.842911e+05            9.517370e+05             6.291598e+05   \n",
       "min    -5.287200e+04           -2.185330e+05            -9.115900e+04   \n",
       "25%     8.560100e+04            7.855450e+04             3.713450e+04   \n",
       "50%     1.776710e+05            2.289000e+05             1.265880e+05   \n",
       "75%     4.540205e+05            5.069145e+05             2.420365e+05   \n",
       "max     4.695033e+06            5.796147e+06             4.070564e+06   \n",
       "\n",
       "       Per Pupil Instructional  Per Pupil Support Systems         Pupils  ...  \\\n",
       "count                51.000000                  51.000000      51.000000  ...   \n",
       "mean                406.058824                 214.431373   63679.823529  ...   \n",
       "std                 462.569710                 201.029675  137799.461755  ...   \n",
       "min               -1816.000000                -536.000000  -30556.000000  ...   \n",
       "25%                 229.000000                 131.500000   10323.000000  ...   \n",
       "50%                 373.000000                 212.000000   23191.000000  ...   \n",
       "75%                 562.500000                 309.000000   57284.000000  ...   \n",
       "max                1795.000000                 700.000000  931123.000000  ...   \n",
       "\n",
       "               Other  Construction  Instructional Equipment  \\\n",
       "count      51.000000  5.100000e+01                51.000000   \n",
       "mean    34610.352941  1.893684e+05             -3318.705882   \n",
       "std    107629.249630  4.568933e+05             16800.555480   \n",
       "min   -109587.000000 -1.447980e+05            -68581.000000   \n",
       "25%      1352.500000 -1.052900e+04             -6464.000000   \n",
       "50%     11070.000000  4.618700e+04              -481.000000   \n",
       "75%     26887.500000  2.255135e+05              1506.500000   \n",
       "max    656968.000000  2.938326e+06             50767.000000   \n",
       "\n",
       "       8th Grade Math Score Avg  4th Grade Math Score Avg  \\\n",
       "count                 51.000000                 51.000000   \n",
       "mean                   0.119949                 -1.030921   \n",
       "std                    1.752409                  2.041296   \n",
       "min                   -4.265094                 -5.872139   \n",
       "25%                   -1.138205                 -2.549981   \n",
       "50%                    0.133654                 -0.868559   \n",
       "75%                    1.505596                  0.494253   \n",
       "max                    3.796597                  3.703375   \n",
       "\n",
       "       8th Grade Reading Score Avg  4th Grade Reading Score Avg  \\\n",
       "count                    51.000000                    51.000000   \n",
       "mean                      0.553419                    -1.027528   \n",
       "std                       1.978047                     2.176205   \n",
       "min                      -2.748558                    -5.754970   \n",
       "25%                      -0.759795                    -2.484529   \n",
       "50%                       0.275862                    -0.983902   \n",
       "75%                       1.703987                     0.865751   \n",
       "max                       4.368536                     3.455644   \n",
       "\n",
       "       8th Grade Score Avg  4th Grade Score Avg  Overall Score Avg  \n",
       "count            51.000000            51.000000          51.000000  \n",
       "mean              0.336684            -1.029225          -0.346270  \n",
       "std               1.468115             1.900419           1.456485  \n",
       "min              -3.063703            -5.813555          -4.438629  \n",
       "25%              -0.661064            -2.339056          -1.482906  \n",
       "50%               0.240088            -0.999665          -0.143454  \n",
       "75%               1.258040             0.264230           0.707257  \n",
       "max               3.492146             2.963828           2.938498  \n",
       "\n",
       "[8 rows x 25 columns]"
      ]
     },
     "execution_count": 3,
     "metadata": {},
     "output_type": "execute_result"
    }
   ],
   "source": [
    "df.describe()"
   ]
  },
  {
   "cell_type": "code",
   "execution_count": 4,
   "metadata": {},
   "outputs": [
    {
     "data": {
      "image/png": "[encoded data removed]",
      "text/plain": [
       "<Figure size 432x288 with 1 Axes>"
      ]
     },
     "metadata": {
      "needs_background": "light"
     },
     "output_type": "display_data"
    }
   ],
   "source": [
    "df.plot(x='Total Revenue', y='Overall Score Avg', style='o')\n",
    "plt.title('Total Revenue vs Overall Score Avg')\n",
    "plt.xlabel('Total Revenue')\n",
    "plt.ylabel('Overall Score Avg')\n",
    "plt.show()"
   ]
  },
  {
   "cell_type": "code",
   "execution_count": 5,
   "metadata": {},
   "outputs": [
    {
     "data": {
      "text/plain": [
       "<matplotlib.axes._subplots.AxesSubplot at 0x1a2270d128>"
      ]
     },
     "execution_count": 5,
     "metadata": {},
     "output_type": "execute_result"
    },
    {
     "data": {
      "image/png": "[encoded data removed]",
      "text/plain": [
       "<Figure size 1080x720 with 1 Axes>"
      ]
     },
     "metadata": {
      "needs_background": "light"
     },
     "output_type": "display_data"
    }
   ],
   "source": [
    "plt.figure(figsize=(15,10))\n",
    "plt.tight_layout()\n",
    "seabornInstance.distplot(df['Overall Score Avg'])"
   ]
  },
  {
   "cell_type": "code",
   "execution_count": 8,
   "metadata": {},
   "outputs": [],
   "source": [
    "X = df['Total Revenue'].values.reshape(-1,1)\n",
    "y = df['Overall Score Avg'].values.reshape(-1,1)"
   ]
  },
  {
   "cell_type": "code",
   "execution_count": 9,
   "metadata": {},
   "outputs": [],
   "source": [
    "X_train, X_test, y_train, y_test = train_test_split(X, y, test_size=0.2, random_state=0)"
   ]
  },
  {
   "cell_type": "code",
   "execution_count": null,
   "metadata": {},
   "outputs": [],
   "source": []
  },
  {
   "cell_type": "code",
   "execution_count": 8,
   "metadata": {},
   "outputs": [
    {
     "data": {
      "text/plain": [
       "LinearRegression(copy_X=True, fit_intercept=True, n_jobs=None, normalize=False)"
      ]
     },
     "execution_count": 8,
     "metadata": {},
     "output_type": "execute_result"
    }
   ],
   "source": [
    "regressor = LinearRegression()\n",
    "regressor.fit(X_train, y_train)"
   ]
  },
  {
   "cell_type": "code",
   "execution_count": 9,
   "metadata": {},
   "outputs": [
    {
     "name": "stdout",
     "output_type": "stream",
     "text": [
      "[-0.55836874]\n",
      "[[2.76703973e-07]]\n"
     ]
    }
   ],
   "source": [
    "print(regressor.intercept_)\n",
    "print(regressor.coef_)"
   ]
  },
  {
   "cell_type": "code",
   "execution_count": 10,
   "metadata": {},
   "outputs": [],
   "source": [
    "y_pred = regressor.predict(X_test)\n"
   ]
  },
  {
   "cell_type": "code",
   "execution_count": 11,
   "metadata": {},
   "outputs": [
    {
     "data": {
      "text/html": [
       "<div>\n",
       "<style scoped>\n",
       "    .dataframe tbody tr th:only-of-type {\n",
       "        vertical-align: middle;\n",
       "    }\n",
       "\n",
       "    .dataframe tbody tr th {\n",
       "        vertical-align: top;\n",
       "    }\n",
       "\n",
       "    .dataframe thead th {\n",
       "        text-align: right;\n",
       "    }\n",
       "</style>\n",
       "<table border=\"1\" class=\"dataframe\">\n",
       "  <thead>\n",
       "    <tr style=\"text-align: right;\">\n",
       "      <th></th>\n",
       "      <th>Actual</th>\n",
       "      <th>Predicted</th>\n",
       "    </tr>\n",
       "  </thead>\n",
       "  <tbody>\n",
       "    <tr>\n",
       "      <td>0</td>\n",
       "      <td>-2.005763</td>\n",
       "      <td>-0.521739</td>\n",
       "    </tr>\n",
       "    <tr>\n",
       "      <td>1</td>\n",
       "      <td>0.723191</td>\n",
       "      <td>-0.519496</td>\n",
       "    </tr>\n",
       "    <tr>\n",
       "      <td>2</td>\n",
       "      <td>0.996509</td>\n",
       "      <td>-0.062312</td>\n",
       "    </tr>\n",
       "    <tr>\n",
       "      <td>3</td>\n",
       "      <td>0.895541</td>\n",
       "      <td>-0.366077</td>\n",
       "    </tr>\n",
       "    <tr>\n",
       "      <td>4</td>\n",
       "      <td>-0.876158</td>\n",
       "      <td>-0.435978</td>\n",
       "    </tr>\n",
       "    <tr>\n",
       "      <td>5</td>\n",
       "      <td>-0.285781</td>\n",
       "      <td>-0.467938</td>\n",
       "    </tr>\n",
       "    <tr>\n",
       "      <td>6</td>\n",
       "      <td>-2.325342</td>\n",
       "      <td>-0.537293</td>\n",
       "    </tr>\n",
       "    <tr>\n",
       "      <td>7</td>\n",
       "      <td>0.124487</td>\n",
       "      <td>1.259185</td>\n",
       "    </tr>\n",
       "    <tr>\n",
       "      <td>8</td>\n",
       "      <td>-1.902053</td>\n",
       "      <td>-0.551142</td>\n",
       "    </tr>\n",
       "    <tr>\n",
       "      <td>9</td>\n",
       "      <td>2.076219</td>\n",
       "      <td>3.236419</td>\n",
       "    </tr>\n",
       "    <tr>\n",
       "      <td>10</td>\n",
       "      <td>-0.487425</td>\n",
       "      <td>-0.329007</td>\n",
       "    </tr>\n",
       "  </tbody>\n",
       "</table>\n",
       "</div>"
      ],
      "text/plain": [
       "      Actual  Predicted\n",
       "0  -2.005763  -0.521739\n",
       "1   0.723191  -0.519496\n",
       "2   0.996509  -0.062312\n",
       "3   0.895541  -0.366077\n",
       "4  -0.876158  -0.435978\n",
       "5  -0.285781  -0.467938\n",
       "6  -2.325342  -0.537293\n",
       "7   0.124487   1.259185\n",
       "8  -1.902053  -0.551142\n",
       "9   2.076219   3.236419\n",
       "10 -0.487425  -0.329007"
      ]
     },
     "execution_count": 11,
     "metadata": {},
     "output_type": "execute_result"
    }
   ],
   "source": [
    "df2 = pd.DataFrame({'Actual': y_test.flatten(), 'Predicted': y_pred.flatten()})\n",
    "df2"
   ]
  },
  {
   "cell_type": "code",
   "execution_count": 12,
   "metadata": {},
   "outputs": [
    {
     "data": {
      "image/png": "[encoded data removed]",
      "text/plain": [
       "<Figure size 1152x720 with 1 Axes>"
      ]
     },
     "metadata": {
      "needs_background": "light"
     },
     "output_type": "display_data"
    }
   ],
   "source": [
    "df3 = df2.head(25)\n",
    "df3.plot(kind='bar',figsize=(16,10))\n",
    "plt.grid(which='major', linestyle='-',linewidth='0.5',color='green')\n",
    "plt.grid(which='minor', linestyle=':', linewidth='0.5', color='black')\n",
    "plt.show()"
   ]
  },
  {
   "cell_type": "code",
   "execution_count": 13,
   "metadata": {},
   "outputs": [
    {
     "data": {
      "image/png": "[encoded data removed]",
      "text/plain": [
       "<Figure size 432x288 with 1 Axes>"
      ]
     },
     "metadata": {
      "needs_background": "light"
     },
     "output_type": "display_data"
    }
   ],
   "source": [
    "plt.scatter(X_test, y_test, color='gray')\n",
    "plt.plot(X_test, y_pred, color='red', linewidth=2)\n",
    "plt.show()"
   ]
  },
  {
   "cell_type": "code",
   "execution_count": 14,
   "metadata": {},
   "outputs": [
    {
     "name": "stdout",
     "output_type": "stream",
     "text": [
      "Mean Absolute Error: 1.0237968161922113\n",
      "Mean Squared Error: 1.306100428130732\n",
      "Root Mean Squared Error: 1.1428475086951593\n"
     ]
    }
   ],
   "source": [
    "print('Mean Absolute Error:', metrics.mean_absolute_error(y_test, y_pred))  \n",
    "print('Mean Squared Error:', metrics.mean_squared_error(y_test, y_pred))  \n",
    "print('Root Mean Squared Error:', np.sqrt(metrics.mean_squared_error(y_test, y_pred)))"
   ]
  },
  {
   "cell_type": "code",
   "execution_count": 11,
   "metadata": {},
   "outputs": [
    {
     "name": "stdout",
     "output_type": "stream",
     "text": [
      "1.4450553187606292\n",
      "0.02964553350805832\n",
      "1.142847508695159\n",
      "0.2789165656643442\n"
     ]
    }
   ],
   "source": [
    "rr = Ridge(alpha=0.01)\n",
    "rr.fit(X_train, y_train) \n",
    "pred_train_rr= rr.predict(X_train)\n",
    "print(np.sqrt(mean_squared_error(y_train,pred_train_rr)))\n",
    "print(r2_score(y_train, pred_train_rr))\n",
    "\n",
    "pred_test_rr= rr.predict(X_test)\n",
    "print(np.sqrt(mean_squared_error(y_test,pred_test_rr))) \n",
    "print(r2_score(y_test, pred_test_rr))"
   ]
  },
  {
   "cell_type": "code",
   "execution_count": 12,
   "metadata": {},
   "outputs": [
    {
     "name": "stdout",
     "output_type": "stream",
     "text": [
      "1.4450553187606292\n",
      "0.02964553350805821\n",
      "1.1428474911180215\n",
      "0.2789165878450509\n"
     ]
    }
   ],
   "source": [
    "model_lasso = Lasso(alpha=0.01)\n",
    "model_lasso.fit(X_train, y_train) \n",
    "pred_train_lasso= model_lasso.predict(X_train)\n",
    "print(np.sqrt(mean_squared_error(y_train,pred_train_lasso)))\n",
    "print(r2_score(y_train, pred_train_lasso))\n",
    "\n",
    "pred_test_lasso= model_lasso.predict(X_test)\n",
    "print(np.sqrt(mean_squared_error(y_test,pred_test_lasso))) \n",
    "print(r2_score(y_test, pred_test_lasso))"
   ]
  },
  {
   "cell_type": "code",
   "execution_count": null,
   "metadata": {},
   "outputs": [],
   "source": []
  }
 ],
 "metadata": {
  "kernelspec": {
   "display_name": "Python 3",
   "language": "python",
   "name": "python3"
  },
  "language_info": {
   "codemirror_mode": {
    "name": "ipython",
    "version": 3
   },
   "file_extension": ".py",
   "mimetype": "text/x-python",
   "name": "python",
   "nbconvert_exporter": "python",
   "pygments_lexer": "ipython3",
   "version": "3.7.3"
  }
 },
 "nbformat": 4,
 "nbformat_minor": 2
}
