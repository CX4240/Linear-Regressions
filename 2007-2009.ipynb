{
 "cells": [
  {
   "cell_type": "code",
   "execution_count": 7,
   "metadata": {},
   "outputs": [],
   "source": [
    "import pandas as pd\n",
    "import numpy as np\n",
    "import matplotlib.pyplot as plt\n",
    "import seaborn as seabornInstance\n",
    "from sklearn.model_selection import train_test_split\n",
    "from sklearn.linear_model import LinearRegression\n",
    "from sklearn import metrics\n",
    "%matplotlib inline\n",
    "df = pd.read_excel('Year XXXX Processed Data Template  copy.xlsx', sheet_name = '2007-2009')"
   ]
  },
  {
   "cell_type": "code",
   "execution_count": 8,
   "metadata": {},
   "outputs": [
    {
     "data": {
      "text/plain": [
       "(51, 26)"
      ]
     },
     "execution_count": 8,
     "metadata": {},
     "output_type": "execute_result"
    }
   ],
   "source": [
    "df.shape"
   ]
  },
  {
   "cell_type": "code",
   "execution_count": 9,
   "metadata": {},
   "outputs": [
    {
     "data": {
      "text/html": [
       "<div>\n",
       "<style scoped>\n",
       "    .dataframe tbody tr th:only-of-type {\n",
       "        vertical-align: middle;\n",
       "    }\n",
       "\n",
       "    .dataframe tbody tr th {\n",
       "        vertical-align: top;\n",
       "    }\n",
       "\n",
       "    .dataframe thead th {\n",
       "        text-align: right;\n",
       "    }\n",
       "</style>\n",
       "<table border=\"1\" class=\"dataframe\">\n",
       "  <thead>\n",
       "    <tr style=\"text-align: right;\">\n",
       "      <th></th>\n",
       "      <th>Total Revenue</th>\n",
       "      <th>Total Expenditure</th>\n",
       "      <th>Federal Revenue</th>\n",
       "      <th>State Revenue</th>\n",
       "      <th>Local Revenue</th>\n",
       "      <th>Instructional Spending</th>\n",
       "      <th>Support System Spending</th>\n",
       "      <th>Per Pupil Instructional</th>\n",
       "      <th>Per Pupil Support Systems</th>\n",
       "      <th>Pupils</th>\n",
       "      <th>...</th>\n",
       "      <th>Other</th>\n",
       "      <th>Construction</th>\n",
       "      <th>Instructional Equipment</th>\n",
       "      <th>8th Grade Math Score Avg</th>\n",
       "      <th>4th Grade Math Score Avg</th>\n",
       "      <th>8th Grade Reading Score Avg</th>\n",
       "      <th>4th Grade Reading Score Avg</th>\n",
       "      <th>8th Grade Score Avg</th>\n",
       "      <th>4th Grade Score Avg</th>\n",
       "      <th>Overall Score Avg</th>\n",
       "    </tr>\n",
       "  </thead>\n",
       "  <tbody>\n",
       "    <tr>\n",
       "      <td>count</td>\n",
       "      <td>5.100000e+01</td>\n",
       "      <td>5.100000e+01</td>\n",
       "      <td>5.100000e+01</td>\n",
       "      <td>5.100000e+01</td>\n",
       "      <td>5.100000e+01</td>\n",
       "      <td>5.100000e+01</td>\n",
       "      <td>5.100000e+01</td>\n",
       "      <td>51.000000</td>\n",
       "      <td>51.000000</td>\n",
       "      <td>51.000000</td>\n",
       "      <td>...</td>\n",
       "      <td>51.000000</td>\n",
       "      <td>5.100000e+01</td>\n",
       "      <td>51.000000</td>\n",
       "      <td>51.000000</td>\n",
       "      <td>51.000000</td>\n",
       "      <td>51.000000</td>\n",
       "      <td>51.000000</td>\n",
       "      <td>51.000000</td>\n",
       "      <td>51.000000</td>\n",
       "      <td>51.000000</td>\n",
       "    </tr>\n",
       "    <tr>\n",
       "      <td>mean</td>\n",
       "      <td>6.683723e+05</td>\n",
       "      <td>8.824307e+05</td>\n",
       "      <td>1.856122e+05</td>\n",
       "      <td>2.225930e+05</td>\n",
       "      <td>2.601672e+05</td>\n",
       "      <td>4.643756e+05</td>\n",
       "      <td>2.643996e+05</td>\n",
       "      <td>565.254902</td>\n",
       "      <td>355.254902</td>\n",
       "      <td>50500.274510</td>\n",
       "      <td>...</td>\n",
       "      <td>22202.588235</td>\n",
       "      <td>8.503457e+04</td>\n",
       "      <td>-10.901961</td>\n",
       "      <td>1.798703</td>\n",
       "      <td>-0.147530</td>\n",
       "      <td>1.170912</td>\n",
       "      <td>-0.195777</td>\n",
       "      <td>1.484807</td>\n",
       "      <td>-0.171653</td>\n",
       "      <td>0.656577</td>\n",
       "    </tr>\n",
       "    <tr>\n",
       "      <td>std</td>\n",
       "      <td>1.115930e+06</td>\n",
       "      <td>1.471989e+06</td>\n",
       "      <td>4.275353e+05</td>\n",
       "      <td>9.107435e+05</td>\n",
       "      <td>4.909466e+05</td>\n",
       "      <td>6.733417e+05</td>\n",
       "      <td>3.353716e+05</td>\n",
       "      <td>371.586590</td>\n",
       "      <td>252.442535</td>\n",
       "      <td>62907.632187</td>\n",
       "      <td>...</td>\n",
       "      <td>57860.682174</td>\n",
       "      <td>4.918986e+05</td>\n",
       "      <td>11465.628447</td>\n",
       "      <td>1.814184</td>\n",
       "      <td>3.430022</td>\n",
       "      <td>1.660487</td>\n",
       "      <td>2.053578</td>\n",
       "      <td>1.513706</td>\n",
       "      <td>1.830787</td>\n",
       "      <td>1.217548</td>\n",
       "    </tr>\n",
       "    <tr>\n",
       "      <td>min</td>\n",
       "      <td>-2.405625e+06</td>\n",
       "      <td>-9.824630e+05</td>\n",
       "      <td>-7.147700e+04</td>\n",
       "      <td>-2.531346e+06</td>\n",
       "      <td>-5.358280e+05</td>\n",
       "      <td>-1.861510e+05</td>\n",
       "      <td>-3.678170e+05</td>\n",
       "      <td>-209.000000</td>\n",
       "      <td>-51.000000</td>\n",
       "      <td>-43599.000000</td>\n",
       "      <td>...</td>\n",
       "      <td>-216182.000000</td>\n",
       "      <td>-1.253146e+06</td>\n",
       "      <td>-38262.000000</td>\n",
       "      <td>-1.556150</td>\n",
       "      <td>-20.824413</td>\n",
       "      <td>-2.562594</td>\n",
       "      <td>-3.986154</td>\n",
       "      <td>-1.809659</td>\n",
       "      <td>-7.962863</td>\n",
       "      <td>-2.208120</td>\n",
       "    </tr>\n",
       "    <tr>\n",
       "      <td>25%</td>\n",
       "      <td>1.501175e+05</td>\n",
       "      <td>1.568385e+05</td>\n",
       "      <td>1.296450e+04</td>\n",
       "      <td>3.320700e+04</td>\n",
       "      <td>3.644400e+04</td>\n",
       "      <td>9.361650e+04</td>\n",
       "      <td>6.027100e+04</td>\n",
       "      <td>286.500000</td>\n",
       "      <td>198.000000</td>\n",
       "      <td>16855.000000</td>\n",
       "      <td>...</td>\n",
       "      <td>2825.000000</td>\n",
       "      <td>-6.613850e+04</td>\n",
       "      <td>-3692.500000</td>\n",
       "      <td>0.593981</td>\n",
       "      <td>-0.886701</td>\n",
       "      <td>-0.006076</td>\n",
       "      <td>-1.818260</td>\n",
       "      <td>0.541212</td>\n",
       "      <td>-1.105178</td>\n",
       "      <td>-0.124547</td>\n",
       "    </tr>\n",
       "    <tr>\n",
       "      <td>50%</td>\n",
       "      <td>4.805500e+05</td>\n",
       "      <td>6.143520e+05</td>\n",
       "      <td>4.055700e+04</td>\n",
       "      <td>2.114550e+05</td>\n",
       "      <td>1.272090e+05</td>\n",
       "      <td>2.922060e+05</td>\n",
       "      <td>1.732450e+05</td>\n",
       "      <td>485.000000</td>\n",
       "      <td>309.000000</td>\n",
       "      <td>30552.000000</td>\n",
       "      <td>...</td>\n",
       "      <td>12555.000000</td>\n",
       "      <td>1.243500e+04</td>\n",
       "      <td>104.000000</td>\n",
       "      <td>1.802767</td>\n",
       "      <td>-0.075341</td>\n",
       "      <td>1.242085</td>\n",
       "      <td>-0.358009</td>\n",
       "      <td>1.509047</td>\n",
       "      <td>-0.336483</td>\n",
       "      <td>0.657019</td>\n",
       "    </tr>\n",
       "    <tr>\n",
       "      <td>75%</td>\n",
       "      <td>7.437285e+05</td>\n",
       "      <td>1.045392e+06</td>\n",
       "      <td>1.417125e+05</td>\n",
       "      <td>3.622270e+05</td>\n",
       "      <td>3.139365e+05</td>\n",
       "      <td>5.543330e+05</td>\n",
       "      <td>3.333335e+05</td>\n",
       "      <td>745.000000</td>\n",
       "      <td>452.000000</td>\n",
       "      <td>66396.500000</td>\n",
       "      <td>...</td>\n",
       "      <td>42950.000000</td>\n",
       "      <td>1.586580e+05</td>\n",
       "      <td>2638.000000</td>\n",
       "      <td>2.599752</td>\n",
       "      <td>1.525329</td>\n",
       "      <td>1.951862</td>\n",
       "      <td>1.114381</td>\n",
       "      <td>2.502302</td>\n",
       "      <td>0.990052</td>\n",
       "      <td>1.227678</td>\n",
       "    </tr>\n",
       "    <tr>\n",
       "      <td>max</td>\n",
       "      <td>5.112282e+06</td>\n",
       "      <td>7.616316e+06</td>\n",
       "      <td>2.544953e+06</td>\n",
       "      <td>3.756207e+06</td>\n",
       "      <td>2.261186e+06</td>\n",
       "      <td>3.729609e+06</td>\n",
       "      <td>1.441831e+06</td>\n",
       "      <td>1661.000000</td>\n",
       "      <td>1508.000000</td>\n",
       "      <td>312362.000000</td>\n",
       "      <td>...</td>\n",
       "      <td>203593.000000</td>\n",
       "      <td>2.628878e+06</td>\n",
       "      <td>33685.000000</td>\n",
       "      <td>6.135723</td>\n",
       "      <td>3.747982</td>\n",
       "      <td>4.888069</td>\n",
       "      <td>4.898687</td>\n",
       "      <td>5.445083</td>\n",
       "      <td>3.460955</td>\n",
       "      <td>3.655182</td>\n",
       "    </tr>\n",
       "  </tbody>\n",
       "</table>\n",
       "<p>8 rows × 25 columns</p>\n",
       "</div>"
      ],
      "text/plain": [
       "       Total Revenue  Total Expenditure  Federal Revenue  State Revenue  \\\n",
       "count   5.100000e+01       5.100000e+01     5.100000e+01   5.100000e+01   \n",
       "mean    6.683723e+05       8.824307e+05     1.856122e+05   2.225930e+05   \n",
       "std     1.115930e+06       1.471989e+06     4.275353e+05   9.107435e+05   \n",
       "min    -2.405625e+06      -9.824630e+05    -7.147700e+04  -2.531346e+06   \n",
       "25%     1.501175e+05       1.568385e+05     1.296450e+04   3.320700e+04   \n",
       "50%     4.805500e+05       6.143520e+05     4.055700e+04   2.114550e+05   \n",
       "75%     7.437285e+05       1.045392e+06     1.417125e+05   3.622270e+05   \n",
       "max     5.112282e+06       7.616316e+06     2.544953e+06   3.756207e+06   \n",
       "\n",
       "       Local Revenue  Instructional Spending  Support System Spending  \\\n",
       "count   5.100000e+01            5.100000e+01             5.100000e+01   \n",
       "mean    2.601672e+05            4.643756e+05             2.643996e+05   \n",
       "std     4.909466e+05            6.733417e+05             3.353716e+05   \n",
       "min    -5.358280e+05           -1.861510e+05            -3.678170e+05   \n",
       "25%     3.644400e+04            9.361650e+04             6.027100e+04   \n",
       "50%     1.272090e+05            2.922060e+05             1.732450e+05   \n",
       "75%     3.139365e+05            5.543330e+05             3.333335e+05   \n",
       "max     2.261186e+06            3.729609e+06             1.441831e+06   \n",
       "\n",
       "       Per Pupil Instructional  Per Pupil Support Systems         Pupils  ...  \\\n",
       "count                51.000000                  51.000000      51.000000  ...   \n",
       "mean                565.254902                 355.254902   50500.274510  ...   \n",
       "std                 371.586590                 252.442535   62907.632187  ...   \n",
       "min                -209.000000                 -51.000000  -43599.000000  ...   \n",
       "25%                 286.500000                 198.000000   16855.000000  ...   \n",
       "50%                 485.000000                 309.000000   30552.000000  ...   \n",
       "75%                 745.000000                 452.000000   66396.500000  ...   \n",
       "max                1661.000000                1508.000000  312362.000000  ...   \n",
       "\n",
       "               Other  Construction  Instructional Equipment  \\\n",
       "count      51.000000  5.100000e+01                51.000000   \n",
       "mean    22202.588235  8.503457e+04               -10.901961   \n",
       "std     57860.682174  4.918986e+05             11465.628447   \n",
       "min   -216182.000000 -1.253146e+06            -38262.000000   \n",
       "25%      2825.000000 -6.613850e+04             -3692.500000   \n",
       "50%     12555.000000  1.243500e+04               104.000000   \n",
       "75%     42950.000000  1.586580e+05              2638.000000   \n",
       "max    203593.000000  2.628878e+06             33685.000000   \n",
       "\n",
       "       8th Grade Math Score Avg  4th Grade Math Score Avg  \\\n",
       "count                 51.000000                 51.000000   \n",
       "mean                   1.798703                 -0.147530   \n",
       "std                    1.814184                  3.430022   \n",
       "min                   -1.556150                -20.824413   \n",
       "25%                    0.593981                 -0.886701   \n",
       "50%                    1.802767                 -0.075341   \n",
       "75%                    2.599752                  1.525329   \n",
       "max                    6.135723                  3.747982   \n",
       "\n",
       "       8th Grade Reading Score Avg  4th Grade Reading Score Avg  \\\n",
       "count                    51.000000                    51.000000   \n",
       "mean                      1.170912                    -0.195777   \n",
       "std                       1.660487                     2.053578   \n",
       "min                      -2.562594                    -3.986154   \n",
       "25%                      -0.006076                    -1.818260   \n",
       "50%                       1.242085                    -0.358009   \n",
       "75%                       1.951862                     1.114381   \n",
       "max                       4.888069                     4.898687   \n",
       "\n",
       "       8th Grade Score Avg  4th Grade Score Avg  Overall Score Avg  \n",
       "count            51.000000            51.000000          51.000000  \n",
       "mean              1.484807            -0.171653           0.656577  \n",
       "std               1.513706             1.830787           1.217548  \n",
       "min              -1.809659            -7.962863          -2.208120  \n",
       "25%               0.541212            -1.105178          -0.124547  \n",
       "50%               1.509047            -0.336483           0.657019  \n",
       "75%               2.502302             0.990052           1.227678  \n",
       "max               5.445083             3.460955           3.655182  \n",
       "\n",
       "[8 rows x 25 columns]"
      ]
     },
     "execution_count": 9,
     "metadata": {},
     "output_type": "execute_result"
    }
   ],
   "source": [
    "df.describe()"
   ]
  },
  {
   "cell_type": "code",
   "execution_count": 10,
   "metadata": {},
   "outputs": [
    {
     "data": {
      "image/png": "[encoded data removed]",
      "text/plain": [
       "<Figure size 432x288 with 1 Axes>"
      ]
     },
     "metadata": {
      "needs_background": "light"
     },
     "output_type": "display_data"
    }
   ],
   "source": [
    "df.plot(x='Total Revenue', y='Overall Score Avg', style='o')\n",
    "plt.title('Total Revenue vs Overall Score Avg')\n",
    "plt.xlabel('Total Revenue')\n",
    "plt.ylabel('Overall Score Avg')\n",
    "plt.show()"
   ]
  },
  {
   "cell_type": "code",
   "execution_count": 11,
   "metadata": {},
   "outputs": [
    {
     "data": {
      "text/plain": [
       "<matplotlib.axes._subplots.AxesSubplot at 0x1a20ee9ac8>"
      ]
     },
     "execution_count": 11,
     "metadata": {},
     "output_type": "execute_result"
    },
    {
     "data": {
      "image/png": "[encoded data removed]",
      "text/plain": [
       "<Figure size 1080x720 with 1 Axes>"
      ]
     },
     "metadata": {
      "needs_background": "light"
     },
     "output_type": "display_data"
    }
   ],
   "source": [
    "plt.figure(figsize=(15,10))\n",
    "plt.tight_layout()\n",
    "seabornInstance.distplot(df['Overall Score Avg'])"
   ]
  },
  {
   "cell_type": "code",
   "execution_count": 12,
   "metadata": {},
   "outputs": [],
   "source": [
    "X = df['Total Revenue'].values.reshape(-1,1)\n",
    "y = df['Overall Score Avg'].values.reshape(-1,1)"
   ]
  },
  {
   "cell_type": "code",
   "execution_count": 13,
   "metadata": {},
   "outputs": [],
   "source": [
    "X_train, X_test, y_train, y_test = train_test_split(X, y, test_size=0.2, random_state=0)"
   ]
  },
  {
   "cell_type": "code",
   "execution_count": 14,
   "metadata": {},
   "outputs": [
    {
     "data": {
      "text/plain": [
       "LinearRegression(copy_X=True, fit_intercept=True, n_jobs=None, normalize=False)"
      ]
     },
     "execution_count": 14,
     "metadata": {},
     "output_type": "execute_result"
    }
   ],
   "source": [
    "regressor = LinearRegression()\n",
    "regressor.fit(X_train, y_train)"
   ]
  },
  {
   "cell_type": "code",
   "execution_count": 15,
   "metadata": {},
   "outputs": [
    {
     "name": "stdout",
     "output_type": "stream",
     "text": [
      "[0.59094365]\n",
      "[[-7.56552794e-08]]\n"
     ]
    }
   ],
   "source": [
    "print(regressor.intercept_)\n",
    "print(regressor.coef_)"
   ]
  },
  {
   "cell_type": "code",
   "execution_count": 16,
   "metadata": {},
   "outputs": [],
   "source": [
    "y_pred = regressor.predict(X_test)\n"
   ]
  },
  {
   "cell_type": "code",
   "execution_count": 17,
   "metadata": {},
   "outputs": [
    {
     "data": {
      "text/html": [
       "<div>\n",
       "<style scoped>\n",
       "    .dataframe tbody tr th:only-of-type {\n",
       "        vertical-align: middle;\n",
       "    }\n",
       "\n",
       "    .dataframe tbody tr th {\n",
       "        vertical-align: top;\n",
       "    }\n",
       "\n",
       "    .dataframe thead th {\n",
       "        text-align: right;\n",
       "    }\n",
       "</style>\n",
       "<table border=\"1\" class=\"dataframe\">\n",
       "  <thead>\n",
       "    <tr style=\"text-align: right;\">\n",
       "      <th></th>\n",
       "      <th>Actual</th>\n",
       "      <th>Predicted</th>\n",
       "    </tr>\n",
       "  </thead>\n",
       "  <tbody>\n",
       "    <tr>\n",
       "      <td>0</td>\n",
       "      <td>2.101475</td>\n",
       "      <td>0.574660</td>\n",
       "    </tr>\n",
       "    <tr>\n",
       "      <td>1</td>\n",
       "      <td>1.727068</td>\n",
       "      <td>0.613325</td>\n",
       "    </tr>\n",
       "    <tr>\n",
       "      <td>2</td>\n",
       "      <td>1.025639</td>\n",
       "      <td>0.574194</td>\n",
       "    </tr>\n",
       "    <tr>\n",
       "      <td>3</td>\n",
       "      <td>-0.047660</td>\n",
       "      <td>0.667155</td>\n",
       "    </tr>\n",
       "    <tr>\n",
       "      <td>4</td>\n",
       "      <td>0.768289</td>\n",
       "      <td>0.588314</td>\n",
       "    </tr>\n",
       "    <tr>\n",
       "      <td>5</td>\n",
       "      <td>2.132313</td>\n",
       "      <td>0.557810</td>\n",
       "    </tr>\n",
       "    <tr>\n",
       "      <td>6</td>\n",
       "      <td>0.752941</td>\n",
       "      <td>0.583483</td>\n",
       "    </tr>\n",
       "    <tr>\n",
       "      <td>7</td>\n",
       "      <td>0.473220</td>\n",
       "      <td>0.204173</td>\n",
       "    </tr>\n",
       "    <tr>\n",
       "      <td>8</td>\n",
       "      <td>0.672662</td>\n",
       "      <td>0.581026</td>\n",
       "    </tr>\n",
       "    <tr>\n",
       "      <td>9</td>\n",
       "      <td>1.072862</td>\n",
       "      <td>0.486804</td>\n",
       "    </tr>\n",
       "    <tr>\n",
       "      <td>10</td>\n",
       "      <td>1.091555</td>\n",
       "      <td>0.413255</td>\n",
       "    </tr>\n",
       "  </tbody>\n",
       "</table>\n",
       "</div>"
      ],
      "text/plain": [
       "      Actual  Predicted\n",
       "0   2.101475   0.574660\n",
       "1   1.727068   0.613325\n",
       "2   1.025639   0.574194\n",
       "3  -0.047660   0.667155\n",
       "4   0.768289   0.588314\n",
       "5   2.132313   0.557810\n",
       "6   0.752941   0.583483\n",
       "7   0.473220   0.204173\n",
       "8   0.672662   0.581026\n",
       "9   1.072862   0.486804\n",
       "10  1.091555   0.413255"
      ]
     },
     "execution_count": 17,
     "metadata": {},
     "output_type": "execute_result"
    }
   ],
   "source": [
    "df2 = pd.DataFrame({'Actual': y_test.flatten(), 'Predicted': y_pred.flatten()})\n",
    "df2"
   ]
  },
  {
   "cell_type": "code",
   "execution_count": 18,
   "metadata": {},
   "outputs": [
    {
     "data": {
      "image/png": "[encoded data removed]",
      "text/plain": [
       "<Figure size 1152x720 with 1 Axes>"
      ]
     },
     "metadata": {
      "needs_background": "light"
     },
     "output_type": "display_data"
    }
   ],
   "source": [
    "df3 = df2.head(25)\n",
    "df3.plot(kind='bar',figsize=(16,10))\n",
    "plt.grid(which='major', linestyle='-',linewidth='0.5',color='green')\n",
    "plt.grid(which='minor', linestyle=':', linewidth='0.5', color='black')\n",
    "plt.show()"
   ]
  },
  {
   "cell_type": "code",
   "execution_count": 19,
   "metadata": {},
   "outputs": [
    {
     "data": {
      "image/png": "[encoded data removed]",
      "text/plain": [
       "<Figure size 432x288 with 1 Axes>"
      ]
     },
     "metadata": {
      "needs_background": "light"
     },
     "output_type": "display_data"
    }
   ],
   "source": [
    "plt.scatter(X_test, y_test, color='gray')\n",
    "plt.plot(X_test, y_pred, color='red', linewidth=2)\n",
    "plt.show()"
   ]
  },
  {
   "cell_type": "code",
   "execution_count": 20,
   "metadata": {},
   "outputs": [
    {
     "name": "stdout",
     "output_type": "stream",
     "text": [
      "Mean Absolute Error: 0.6687087871965346\n",
      "Mean Squared Error: 0.7009869936999461\n",
      "Root Mean Squared Error: 0.8372496603164113\n"
     ]
    }
   ],
   "source": [
    "print('Mean Absolute Error:', metrics.mean_absolute_error(y_test, y_pred))  \n",
    "print('Mean Squared Error:', metrics.mean_squared_error(y_test, y_pred))  \n",
    "print('Root Mean Squared Error:', np.sqrt(metrics.mean_squared_error(y_test, y_pred)))"
   ]
  },
  {
   "cell_type": "code",
   "execution_count": null,
   "metadata": {},
   "outputs": [],
   "source": []
  }
 ],
 "metadata": {
  "kernelspec": {
   "display_name": "Python 3",
   "language": "python",
   "name": "python3"
  },
  "language_info": {
   "codemirror_mode": {
    "name": "ipython",
    "version": 3
   },
   "file_extension": ".py",
   "mimetype": "text/x-python",
   "name": "python",
   "nbconvert_exporter": "python",
   "pygments_lexer": "ipython3",
   "version": "3.7.3"
  }
 },
 "nbformat": 4,
 "nbformat_minor": 2
}
